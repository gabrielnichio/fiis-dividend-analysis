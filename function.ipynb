{
 "cells": [
  {
   "cell_type": "code",
   "execution_count": 14,
   "metadata": {},
   "outputs": [],
   "source": [
    "import pandas as pd\n",
    "import numpy as np\n",
    "from datetime import datetime"
   ]
  },
  {
   "cell_type": "code",
   "execution_count": 15,
   "metadata": {},
   "outputs": [
    {
     "name": "stderr",
     "output_type": "stream",
     "text": [
      "C:\\Users\\DDMX\\AppData\\Local\\Temp\\ipykernel_11564\\389494241.py:3: UserWarning: Parsing dates in %d.%m.%Y format when dayfirst=False (the default) was specified. Pass `dayfirst=True` or specify a format to silence this warning.\n",
      "  df[\"data_pagamento\"] = pd.to_datetime(df[\"data_pagamento\"])\n"
     ]
    }
   ],
   "source": [
    "df = pd.read_csv(\"fiis.csv\", index_col=0)\n",
    "\n",
    "df[\"data_pagamento\"] = pd.to_datetime(df[\"data_pagamento\"])\n",
    "\n",
    "df[\"cotacao\"] = df[\"cotacao\"].str.replace(\"R$ \", \"\", regex=False)\n",
    "df[\"cotacao\"] = df[\"cotacao\"].str.replace(\".\", \"\", regex=False)\n",
    "df[\"cotacao\"] = df[\"cotacao\"].str.replace(\",\", \".\", regex=False).astype(float)\n",
    "\n",
    "df[\"rendimento\"] = df[\"rendimento\"].str.replace(\"R$ \", \"\", regex=False)\n",
    "df[\"rendimento\"] = df[\"rendimento\"].str.replace(\".\", \"\", regex=False)\n",
    "df[\"rendimento\"] = df[\"rendimento\"].str.replace(\",\", \".\", regex=False).astype(float)"
   ]
  },
  {
   "cell_type": "code",
   "execution_count": 16,
   "metadata": {},
   "outputs": [
    {
     "name": "stdout",
     "output_type": "stream",
     "text": [
      "fundo                          MCCI11\n",
      "data_pagamento    2020-04-20 00:00:00\n",
      "cotacao                         87.45\n",
      "dy                              0,57%\n",
      "rendimento                        0.5\n",
      "Name: 59, dtype: object\n",
      "1143.0\n",
      "44.65\n"
     ]
    }
   ],
   "source": [
    "fii_tracked = \"MCCI11\"\n",
    "initial_application = 100000\n",
    "application_date = pd.to_datetime(\"01/01/2020\")\n",
    "\n",
    "fii_df = df[\n",
    "    (df[\"cotacao\"] != 0) &\n",
    "    (df[\"data_pagamento\"] >= application_date) &\n",
    "    (df[\"fundo\"] == fii_tracked)\n",
    "]\n",
    "\n",
    "starting_date = fii_df.iloc[-1]\n",
    "\n",
    "num_cotas = np.floor(initial_application / starting_date[\"cotacao\"])\n",
    "rest = np.round((initial_application % starting_date[\"cotacao\"]), 2)\n",
    "\n",
    "print(starting_date)\n",
    "print(num_cotas)\n",
    "print(rest)\n",
    "\n"
   ]
  },
  {
   "cell_type": "code",
   "execution_count": 17,
   "metadata": {},
   "outputs": [],
   "source": [
    "fii_df = fii_df.reindex(index=fii_df.index[::-1]).iloc[1:]"
   ]
  },
  {
   "cell_type": "code",
   "execution_count": 18,
   "metadata": {},
   "outputs": [
    {
     "name": "stdout",
     "output_type": "stream",
     "text": [
      "<class 'pandas.core.frame.DataFrame'>\n",
      "Index: 59 entries, 58 to 0\n",
      "Data columns (total 5 columns):\n",
      " #   Column          Non-Null Count  Dtype         \n",
      "---  ------          --------------  -----         \n",
      " 0   fundo           59 non-null     object        \n",
      " 1   data_pagamento  59 non-null     datetime64[ns]\n",
      " 2   cotacao         59 non-null     float64       \n",
      " 3   dy              59 non-null     object        \n",
      " 4   rendimento      59 non-null     float64       \n",
      "dtypes: datetime64[ns](1), float64(2), object(2)\n",
      "memory usage: 2.8+ KB\n"
     ]
    }
   ],
   "source": [
    "fii_df.info()"
   ]
  },
  {
   "cell_type": "code",
   "execution_count": 19,
   "metadata": {},
   "outputs": [
    {
     "name": "stdout",
     "output_type": "stream",
     "text": [
      "Total de dividendos ganhos no período (até data do ultimo pagamento): 99856.95\n"
     ]
    }
   ],
   "source": [
    "acc = rest\n",
    "total_dividends_period = 0\n",
    "monthly_reinvestment = 1000\n",
    "\n",
    "for i in range(len(fii_df)):\n",
    "    line = fii_df.iloc[i]\n",
    "    month_income = (num_cotas * line[\"rendimento\"])\n",
    "    \n",
    "    total_dividends_period += month_income\n",
    "    \n",
    "    acc = monthly_reinvestment + month_income + acc\n",
    "\n",
    "    if acc / line[\"cotacao\"] > 0:\n",
    "        num_papers = np.floor(acc / line[\"cotacao\"])\n",
    "        num_cotas += num_papers\n",
    "\n",
    "        acc = np.round(acc % line[\"cotacao\"], 2)\n",
    "    else:\n",
    "        acc += month_income\n",
    "\n",
    "\n",
    "\n",
    "    # print(month_income)\n",
    "print(f\"Total de dividendos ganhos no período (até data do ultimo pagamento): {np.round(total_dividends_period, 2)}\")"
   ]
  }
 ],
 "metadata": {
  "kernelspec": {
   "display_name": "Python 3",
   "language": "python",
   "name": "python3"
  },
  "language_info": {
   "codemirror_mode": {
    "name": "ipython",
    "version": 3
   },
   "file_extension": ".py",
   "mimetype": "text/x-python",
   "name": "python",
   "nbconvert_exporter": "python",
   "pygments_lexer": "ipython3",
   "version": "3.13.2"
  }
 },
 "nbformat": 4,
 "nbformat_minor": 2
}
