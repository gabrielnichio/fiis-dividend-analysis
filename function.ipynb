{
 "cells": [
  {
   "cell_type": "code",
   "execution_count": 64,
   "metadata": {},
   "outputs": [],
   "source": [
    "import pandas as pd\n",
    "import numpy as np\n",
    "from datetime import datetime"
   ]
  },
  {
   "cell_type": "code",
   "execution_count": 65,
   "metadata": {},
   "outputs": [
    {
     "name": "stderr",
     "output_type": "stream",
     "text": [
      "/var/folders/md/f334skt95q9bz4jspp8r3qf00000gn/T/ipykernel_1716/389494241.py:3: UserWarning: Parsing dates in %d.%m.%Y format when dayfirst=False (the default) was specified. Pass `dayfirst=True` or specify a format to silence this warning.\n",
      "  df[\"data_pagamento\"] = pd.to_datetime(df[\"data_pagamento\"])\n"
     ]
    }
   ],
   "source": [
    "df = pd.read_csv(\"fiis.csv\", index_col=0)\n",
    "\n",
    "df[\"data_pagamento\"] = pd.to_datetime(df[\"data_pagamento\"])\n",
    "\n",
    "df[\"cotacao\"] = df[\"cotacao\"].str.replace(\"R$ \", \"\", regex=False)\n",
    "df[\"cotacao\"] = df[\"cotacao\"].str.replace(\".\", \"\", regex=False)\n",
    "df[\"cotacao\"] = df[\"cotacao\"].str.replace(\",\", \".\", regex=False).astype(float)\n",
    "\n",
    "df[\"rendimento\"] = df[\"rendimento\"].str.replace(\"R$ \", \"\", regex=False)\n",
    "df[\"rendimento\"] = df[\"rendimento\"].str.replace(\".\", \"\", regex=False)\n",
    "df[\"rendimento\"] = df[\"rendimento\"].str.replace(\",\", \".\", regex=False).astype(float)"
   ]
  },
  {
   "cell_type": "code",
   "execution_count": 66,
   "metadata": {},
   "outputs": [
    {
     "name": "stdout",
     "output_type": "stream",
     "text": [
      "fundo                          MCCI11\n",
      "data_pagamento    2020-04-20 00:00:00\n",
      "cotacao                         87.45\n",
      "dy                              0,57%\n",
      "rendimento                        0.5\n",
      "Name: 59, dtype: object\n",
      "1143.0\n",
      "44.65\n"
     ]
    }
   ],
   "source": [
    "fii_tracked = \"MCCI11\"\n",
    "initial_application = 100000\n",
    "application_date = pd.to_datetime(\"01/01/2020\")\n",
    "\n",
    "fii_df = df[\n",
    "    (df[\"cotacao\"] != 0) &\n",
    "    (df[\"data_pagamento\"] >= application_date) &\n",
    "    (df[\"fundo\"] == fii_tracked)\n",
    "]\n",
    "\n",
    "starting_date = fii_df.iloc[-1]\n",
    "\n",
    "num_cotas = np.floor(initial_application / starting_date[\"cotacao\"])\n",
    "rest = np.round((initial_application % starting_date[\"cotacao\"]), 2)\n",
    "\n",
    "print(starting_date)\n",
    "print(num_cotas)\n",
    "print(rest)\n",
    "\n"
   ]
  },
  {
   "cell_type": "code",
   "execution_count": 67,
   "metadata": {},
   "outputs": [],
   "source": [
    "fii_df = fii_df.reindex(index=fii_df.index[::-1]).iloc[1:]"
   ]
  },
  {
   "cell_type": "code",
   "execution_count": 68,
   "metadata": {},
   "outputs": [
    {
     "name": "stdout",
     "output_type": "stream",
     "text": [
      "<class 'pandas.core.frame.DataFrame'>\n",
      "Index: 59 entries, 58 to 0\n",
      "Data columns (total 5 columns):\n",
      " #   Column          Non-Null Count  Dtype         \n",
      "---  ------          --------------  -----         \n",
      " 0   fundo           59 non-null     object        \n",
      " 1   data_pagamento  59 non-null     datetime64[ns]\n",
      " 2   cotacao         59 non-null     float64       \n",
      " 3   dy              59 non-null     object        \n",
      " 4   rendimento      59 non-null     float64       \n",
      "dtypes: datetime64[ns](1), float64(2), object(2)\n",
      "memory usage: 2.8+ KB\n"
     ]
    }
   ],
   "source": [
    "fii_df.info()"
   ]
  },
  {
   "cell_type": "code",
   "execution_count": 69,
   "metadata": {},
   "outputs": [
    {
     "name": "stdout",
     "output_type": "stream",
     "text": [
      "685.8\n",
      "685.8\n",
      "628.6500000000001\n",
      "685.8\n",
      "685.8\n",
      "685.8\n",
      "685.8\n",
      "685.8\n",
      "685.8\n",
      "800.0999999999999\n",
      "800.0999999999999\n",
      "800.0999999999999\n",
      "800.0999999999999\n",
      "1028.7\n",
      "1143.0\n",
      "1143.0\n",
      "1143.0\n",
      "1143.0\n",
      "1143.0\n",
      "1143.0\n",
      "1143.0\n",
      "1143.0\n",
      "1143.0\n",
      "1143.0\n",
      "1143.0\n",
      "1257.3000000000002\n",
      "1257.3000000000002\n",
      "1257.3000000000002\n",
      "1257.3000000000002\n",
      "1257.3000000000002\n",
      "1257.3000000000002\n",
      "1257.3000000000002\n",
      "1314.4499999999998\n",
      "1085.85\n",
      "1085.85\n",
      "1085.85\n",
      "1085.85\n",
      "1085.85\n",
      "1085.85\n",
      "1028.7\n",
      "1028.7\n",
      "1028.7\n",
      "1028.7\n",
      "1028.7\n",
      "1028.7\n",
      "914.4000000000001\n",
      "914.4000000000001\n",
      "914.4000000000001\n",
      "914.4000000000001\n",
      "914.4000000000001\n",
      "914.4000000000001\n",
      "914.4000000000001\n",
      "914.4000000000001\n",
      "914.4000000000001\n",
      "914.4000000000001\n",
      "914.4000000000001\n",
      "914.4000000000001\n",
      "1028.7\n",
      "1028.7\n"
     ]
    }
   ],
   "source": [
    "acc = rest\n",
    "\n",
    "for i in range(len(fii_df)):\n",
    "    line = fii_df.iloc[i]\n",
    "    month_income = (num_cotas * line[\"rendimento\"]) + acc\n",
    "\n",
    "    if month_income / line[\"cotacao\"] > 0:\n",
    "        num_papers = np.floor(month_income / line[\"cotacao\"])\n",
    "        num_cotas += num_papers\n",
    "\n",
    "        acc = np.round(month_income % line[\"cotacao\"])\n",
    "    else:\n",
    "        acc += month_income\n",
    "\n",
    "\n",
    "\n",
    "    print(month_income)"
   ]
  }
 ],
 "metadata": {
  "kernelspec": {
   "display_name": "venv",
   "language": "python",
   "name": "python3"
  },
  "language_info": {
   "codemirror_mode": {
    "name": "ipython",
    "version": 3
   },
   "file_extension": ".py",
   "mimetype": "text/x-python",
   "name": "python",
   "nbconvert_exporter": "python",
   "pygments_lexer": "ipython3",
   "version": "3.12.7"
  }
 },
 "nbformat": 4,
 "nbformat_minor": 2
}
